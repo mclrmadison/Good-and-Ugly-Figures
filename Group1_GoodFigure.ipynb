{
 "cells": [
  {
   "cell_type": "markdown",
   "id": "982a09d2",
   "metadata": {},
   "source": [
    "# Group 1 Good Figure Contest\n",
    "\n",
    "Import pandas and matplotlib libraries"
   ]
  },
  {
   "cell_type": "code",
   "execution_count": 2,
   "id": "990443f6",
   "metadata": {},
   "outputs": [],
   "source": [
    "import pandas as pd\n",
    "from matplotlib import pyplot as plt"
   ]
  },
  {
   "cell_type": "markdown",
   "id": "a1189c66",
   "metadata": {},
   "source": [
    "Import Thermo Properties csv datasheet"
   ]
  },
  {
   "cell_type": "code",
   "execution_count": null,
   "id": "11bfcd3a",
   "metadata": {},
   "outputs": [],
   "source": [
    "ThermoProperties = pd.read_csv('ThermoProperties.csv')"
   ]
  }
 ],
 "metadata": {
  "kernelspec": {
   "display_name": "Python 3 (ipykernel)",
   "language": "python",
   "name": "python3"
  },
  "language_info": {
   "codemirror_mode": {
    "name": "ipython",
    "version": 3
   },
   "file_extension": ".py",
   "mimetype": "text/x-python",
   "name": "python",
   "nbconvert_exporter": "python",
   "pygments_lexer": "ipython3",
   "version": "3.9.13"
  }
 },
 "nbformat": 4,
 "nbformat_minor": 5
}
